{
 "cells": [
  {
   "cell_type": "markdown",
   "metadata": {
    "id": "aj9mr20ij4nd"
   },
   "source": [
    "# Part 1\n",
    "\n",
    "Throughout the Chief's office, the historically significant locations are listed not by name but by a unique number called the location ID. To make sure they don't miss anything, The Historians split into two groups, each searching the office and trying to create their own complete list of location IDs.\n",
    "\n",
    "There's just one problem: by holding the two lists up side by side (your puzzle input), it quickly becomes clear that the lists aren't very similar. Maybe you can help The Historians reconcile their lists?\n",
    "\n",
    "For example:\n",
    "\n",
    "```console\n",
    "3   4\n",
    "4   3\n",
    "2   5\n",
    "1   3\n",
    "3   9\n",
    "3   3\n",
    "```\n",
    "\n",
    "Maybe the lists are only off by a small amount! To find out, pair up the numbers and measure how far apart they are. Pair up the smallest number in the left list with the smallest number in the right list, then the second-smallest left number with the second-smallest right number, and so on.\n",
    "\n",
    "Within each pair, figure out how far apart the two numbers are; you'll need to add up all of those distances. For example, if you pair up a 3 from the left list with a 7 from the right list, the distance apart is 4; if you pair up a 9 with a 3, the distance apart is 6.\n",
    "\n",
    "In the example list above, the pairs and distances would be as follows:\n",
    "\n",
    "- The smallest number in the left list is 1, and the smallest number in the right list is 3. The distance between them is 2.\n",
    "- The second-smallest number in the left list is 2, and the second-smallest number in the right list is another 3. The distance between them is 1.\n",
    "- The third-smallest number in both lists is 3, so the distance between them is 0.\n",
    "- The next numbers to pair up are 3 and 4, a distance of 1.\n",
    "- The fifth-smallest numbers in each list are 3 and 5, a distance of 2.\n",
    "- Finally, the largest number in the left list is 4, while the largest number in the right list is 9; these are a distance 5 apart.\n",
    "\n",
    "To find the total distance between the left list and the right list, add up the distances between all of the pairs you found. In the example above, this is 2 + 1 + 0 + 1 + 2 + 5, a total distance of 11!\n",
    "\n",
    "Your actual left and right lists contain many location IDs. What is the total distance between your lists?"
   ]
  },
  {
   "cell_type": "code",
   "execution_count": null,
   "metadata": {
    "colab": {
     "base_uri": "https://localhost:8080/"
    },
    "executionInfo": {
     "elapsed": 207,
     "status": "ok",
     "timestamp": 1733068011768,
     "user": {
      "displayName": "mario bifulco",
      "userId": "04970312166493026036"
     },
     "user_tz": -60
    },
    "id": "JYgEYZaJjgI5",
    "outputId": "9c26b99d-5b90-4208-a005-52f779ef9e63"
   },
   "outputs": [],
   "source": [
    "sum(abs(int(a) - int(b))\n",
    "    for a, b in zip(*[sorted(y)\n",
    "        for y in zip(*(x.strip().split('   ')\n",
    "            for x in open('input.txt').readlines()))]))"
   ]
  },
  {
   "cell_type": "markdown",
   "metadata": {
    "id": "1aDNLucUpp5x"
   },
   "source": [
    "# Part 2\n",
    "\n",
    "This time, you'll need to figure out exactly how often each number from the left list appears in the right list. Calculate a total similarity score by adding up each number in the left list after multiplying it by the number of times that number appears in the right list.\n",
    "\n",
    "Here are the same example lists again:\n",
    "\n",
    "```console\n",
    "3   4\n",
    "4   3\n",
    "2   5\n",
    "1   3\n",
    "3   9\n",
    "3   3\n",
    "```\n",
    "\n",
    "For these example lists, here is the process of finding the similarity score:\n",
    "\n",
    "- The first number in the left list is 3. It appears in the right list three times, so the similarity score increases by 3 * 3 = 9.\n",
    "- The second number in the left list is 4. It appears in the right list once, so the similarity score increases by 4 * 1 = 4.\n",
    "- The third number in the left list is 2. It does not appear in the right list, so the similarity score does not increase (2 * 0 = 0).\n",
    "- The fourth number, 1, also does not appear in the right list.\n",
    "- The fifth number, 3, appears in the right list three times; the similarity score increases by 9.\n",
    "- The last number, 3, appears in the right list three times; the similarity score again increases by 9.\n",
    "\n",
    "So, for these example lists, the similarity score at the end of this process is 31 (9 + 4 + 0 + 0 + 9 + 9).\n",
    "\n",
    "Once again consider your left and right lists. What is their similarity score?"
   ]
  },
  {
   "cell_type": "code",
   "execution_count": null,
   "metadata": {
    "colab": {
     "base_uri": "https://localhost:8080/"
    },
    "executionInfo": {
     "elapsed": 206,
     "status": "ok",
     "timestamp": 1733068020156,
     "user": {
      "displayName": "mario bifulco",
      "userId": "04970312166493026036"
     },
     "user_tz": -60
    },
    "id": "MyRo00603FGD",
    "outputId": "c98a502f-e8eb-428b-839b-96110310efbe"
   },
   "outputs": [],
   "source": [
    "l, r = list(zip(*[[int(a), int(b)] for a, b in [y.split('   ') for y in [x.strip() for x in open('input.txt').readlines()]]]))\n",
    "sum(x * r.count(x) for x in l)"
   ]
  }
 ],
 "metadata": {
  "colab": {
   "authorship_tag": "ABX9TyO65mD8zWxYhY6JN69bv8qI",
   "provenance": []
  },
  "kernelspec": {
   "display_name": "Python 3",
   "name": "python3"
  },
  "language_info": {
   "name": "python"
  }
 },
 "nbformat": 4,
 "nbformat_minor": 0
}
