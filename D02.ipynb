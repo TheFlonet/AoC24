{
 "cells": [
  {
   "cell_type": "markdown",
   "metadata": {
    "id": "mMl3Cgq0l0HC"
   },
   "source": [
    "# Part 1\n",
    "\n",
    "```console\n",
    "7 6 4 2 1\n",
    "1 2 7 8 9\n",
    "9 7 6 2 1\n",
    "1 3 2 4 5\n",
    "8 6 4 4 1\n",
    "1 3 6 7 9\n",
    "```\n",
    "\n",
    "This example data contains six reports each containing five levels.\n",
    "\n",
    "The engineers are trying to figure out which reports are safe. The Red-Nosed reactor safety systems can only tolerate levels that are either gradually increasing or gradually decreasing. So, a report only counts as safe if both of the following are true:\n",
    "\n",
    "- The levels are either all increasing or all decreasing.\n",
    "- Any two adjacent levels differ by at least one and at most three.\n",
    "\n",
    "In the example above, the reports can be found safe or unsafe by checking those rules:\n",
    "\n",
    "- 7 6 4 2 1: Safe because the levels are all decreasing by 1 or 2.\n",
    "- 1 2 7 8 9: Unsafe because 2 7 is an increase of 5.\n",
    "- 9 7 6 2 1: Unsafe because 6 2 is a decrease of 4.\n",
    "- 1 3 2 4 5: Unsafe because 1 3 is increasing but 3 2 is decreasing.\n",
    "- 8 6 4 4 1: Unsafe because 4 4 is neither an increase or a decrease.\n",
    "- 1 3 6 7 9: Safe because the levels are all increasing by 1, 2, or 3.\n",
    "\n",
    "So, in this example, 2 reports are safe.\n",
    "\n",
    "Analyze the unusual data from the engineers. How many reports are safe?"
   ]
  },
  {
   "cell_type": "code",
   "execution_count": null,
   "metadata": {
    "colab": {
     "base_uri": "https://localhost:8080/"
    },
    "executionInfo": {
     "elapsed": 193,
     "status": "ok",
     "timestamp": 1733150131037,
     "user": {
      "displayName": "mario bifulco",
      "userId": "04970312166493026036"
     },
     "user_tz": -60
    },
    "id": "Faxzqn3Tltcb",
    "outputId": "2a4718ac-0149-4d1a-de51-c90665106e5e"
   },
   "outputs": [],
   "source": [
    "list(map(lambda x: (x == sorted(x) or x == sorted(x, reverse=True)) \n",
    "         and all(x in {1, 2, 3} for x in [abs(a - b) for a, b in zip(x[1:], x[:-1])]),\n",
    "        [[int(t) for t in w]\n",
    "        for w in [y.split()\n",
    "        for y in [x.strip()\n",
    "        for x in open('input.txt').readlines()]]])).count(True)"
   ]
  },
  {
   "cell_type": "markdown",
   "metadata": {
    "id": "2d2jWXOBl1wy"
   },
   "source": [
    "# Part 2\n",
    "\n",
    "Now, the same rules apply as before, except if removing a single level from an unsafe report would make it safe, the report instead counts as safe.\n",
    "\n",
    "More of the above example's reports are now safe:\n",
    "\n",
    "- 7 6 4 2 1: Safe without removing any level.\n",
    "- 1 2 7 8 9: Unsafe regardless of which level is removed.\n",
    "- 9 7 6 2 1: Unsafe regardless of which level is removed.\n",
    "- 1 3 2 4 5: Safe by removing the second level, 3.\n",
    "- 8 6 4 4 1: Safe by removing the third level, 4.\n",
    "- 1 3 6 7 9: Safe without removing any level.\n",
    "\n",
    "Thanks to the Problem Dampener, 4 reports are actually safe!\n",
    "\n",
    "Update your analysis by handling situations where the Problem Dampener can remove a single level from unsafe reports. How many reports are now safe?"
   ]
  },
  {
   "cell_type": "code",
   "execution_count": null,
   "metadata": {
    "colab": {
     "base_uri": "https://localhost:8080/"
    },
    "executionInfo": {
     "elapsed": 201,
     "status": "ok",
     "timestamp": 1733150044844,
     "user": {
      "displayName": "mario bifulco",
      "userId": "04970312166493026036"
     },
     "user_tz": -60
    },
    "id": "4U0KittBxXf1",
    "outputId": "f52c58e0-818b-481d-8f90-12af7fd87bf9"
   },
   "outputs": [],
   "source": [
    "list(map(lambda x: any([True if\n",
    " (t == sorted(t) or t == sorted(t, reverse=True))\n",
    " and all(t in {1, 2, 3} for t in [abs(a - b) for a, b in zip(t[1:], t[:-1])])\n",
    " else False for t in x]),\n",
    "  [[s[:i] + s[i+1:] for i in range(len(s))]\n",
    "   for s in [[int(t) for t in w]\n",
    "             for w in [y.split() for y in [x.strip()\n",
    "             for x in open('input.txt').readlines()]]]])).count(True)"
   ]
  }
 ],
 "metadata": {
  "colab": {
   "authorship_tag": "ABX9TyOtcKJnWMBseoETu62PY43t",
   "provenance": []
  },
  "kernelspec": {
   "display_name": "Python 3",
   "name": "python3"
  },
  "language_info": {
   "name": "python"
  }
 },
 "nbformat": 4,
 "nbformat_minor": 0
}
