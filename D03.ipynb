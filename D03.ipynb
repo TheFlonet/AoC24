{
 "cells": [
  {
   "cell_type": "markdown",
   "metadata": {
    "id": "gwOLGocCtr6t"
   },
   "source": [
    "# Part 1\n",
    "\n",
    "The computer appears to be trying to run a program, but its memory (your puzzle input) is corrupted. All of the instructions have been jumbled up!\n",
    "\n",
    "It seems like the goal of the program is just to multiply some numbers. It does that with instructions like mul(X,Y), where X and Y are each 1-3 digit numbers. For instance, mul(44,46) multiplies 44 by 46 to get a result of 2024. Similarly, mul(123,4) would multiply 123 by 4.\n",
    "\n",
    "However, because the program's memory has been corrupted, there are also many invalid characters that should be ignored, even if they look like part of a mul instruction. Sequences like mul(4*, mul(6,9!, ?(12,34), or mul ( 2 , 4 ) do nothing.\n",
    "\n",
    "For example, consider the following section of corrupted memory:\n",
    "\n",
    "xmul(2,4)%&mul[3,7]!@^do_not_mul(5,5)+mul(32,64]then(mul(11,8)mul(8,5))\n",
    "Only the four highlighted sections are real mul instructions. Adding up the result of each instruction produces 161 (2*4 + 5*5 + 11*8 + 8*5).\n",
    "\n",
    "Scan the corrupted memory for uncorrupted mul instructions. What do you get if you add up all of the results of the multiplications?"
   ]
  },
  {
   "cell_type": "code",
   "execution_count": null,
   "metadata": {
    "colab": {
     "base_uri": "https://localhost:8080/"
    },
    "id": "YCLB8eqttqaY",
    "outputId": "ef25b6fb-67ef-40dc-8603-5f55ce1319de"
   },
   "outputs": [],
   "source": [
    "import re\n",
    "\n",
    "sum(int(a)*int(b) for a, b in re.findall(r'mul\\((\\d+),(\\d+)\\)', open('input.txt').read()))"
   ]
  },
  {
   "cell_type": "markdown",
   "metadata": {
    "id": "23k_l7dRxSZE"
   },
   "source": [
    "# Part 2\n",
    "\n",
    "There are two new instructions you'll need to handle:\n",
    "\n",
    "- The do() instruction enables future mul instructions.\n",
    "- The don't() instruction disables future mul instructions.\n",
    "\n",
    "Only the most recent do() or don't() instruction applies. At the beginning of the program, mul instructions are enabled.\n",
    "\n",
    "For example:\n",
    "\n",
    "xmul(2,4)&mul[3,7]!^don't()_mul(5,5)+mul(32,64](mul(11,8)undo()?mul(8,5))\n",
    "\n",
    "This corrupted memory is similar to the example from before, but this time the mul(5,5) and mul(11,8) instructions are disabled because there is a don't() instruction before them. The other mul instructions function normally, including the one at the end that gets re-enabled by a do() instruction.\n",
    "\n",
    "This time, the sum of the results is 48 (2*4 + 8*5).\n",
    "\n",
    "Handle the new instructions; what do you get if you add up all of the results of just the enabled multiplications?"
   ]
  },
  {
   "cell_type": "code",
   "execution_count": null,
   "metadata": {
    "colab": {
     "base_uri": "https://localhost:8080/"
    },
    "id": "cbHAw4cIH17E",
    "outputId": "59f4a1b7-b7fd-4aa4-c566-f410cc7d2b2c"
   },
   "outputs": [],
   "source": [
    "import re\n",
    "\n",
    "sum(\n",
    "    sum(\n",
    "        int(sub[0])*int(sub[1]) for sub in re.findall(r'mul\\((\\d+),(\\d+)\\)', do)\n",
    "    ) for do in [do.split('don\\'t()')[0] \n",
    "                 for do in open('input.txt').read().split('do()')]\n",
    ")"
   ]
  }
 ],
 "metadata": {
  "colab": {
   "provenance": []
  },
  "kernelspec": {
   "display_name": "Python 3",
   "name": "python3"
  },
  "language_info": {
   "name": "python"
  }
 },
 "nbformat": 4,
 "nbformat_minor": 0
}
