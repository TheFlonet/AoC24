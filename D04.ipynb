{
 "cells": [
  {
   "cell_type": "markdown",
   "metadata": {
    "id": "crLxbaWHwDpK"
   },
   "source": [
    "# Part 1\n",
    "\n",
    "As the search for the Chief continues, a small Elf who lives on the station tugs on your shirt; she'd like to know if you could help her with her word search (your puzzle input). She only has to find one word: XMAS.\n",
    "\n",
    "This word search allows words to be horizontal, vertical, diagonal, written backwards, or even overlapping other words. It's a little unusual, though, as you don't merely need to find one instance of XMAS - you need to find all of them. Here are a few ways XMAS might appear, where irrelevant characters have been replaced with `.`:\n",
    "\n",
    "```\n",
    "..X...\n",
    ".SAMX.\n",
    ".A..A.\n",
    "XMAS.S\n",
    ".X....\n",
    "```\n",
    "\n",
    "The actual word search will be full of letters instead. For example:\n",
    "\n",
    "```\n",
    "MMMSXXMASM\n",
    "MSAMXMSMSA\n",
    "AMXSXMAAMM\n",
    "MSAMASMSMX\n",
    "XMASAMXAMM\n",
    "XXAMMXXAMA\n",
    "SMSMSASXSS\n",
    "SAXAMASAAA\n",
    "MAMMMXMMMM\n",
    "MXMXAXMASX\n",
    "```\n",
    "\n",
    "In this word search, XMAS occurs a total of 18 times; here's the same word search again, but where letters not involved in any XMAS have been replaced with `.`:\n",
    "\n",
    "```\n",
    "....XXMAS.\n",
    ".SAMXMS...\n",
    "...S..A...\n",
    "..A.A.MS.X\n",
    "XMASAMX.MM\n",
    "X.....XA.A\n",
    "S.S.S.S.SS\n",
    ".A.A.A.A.A\n",
    "..M.M.M.MM\n",
    ".X.X.XMASX\n",
    "```\n",
    "\n",
    "Take a look at the little Elf's word search. How many times does XMAS appear?"
   ]
  },
  {
   "cell_type": "code",
   "execution_count": null,
   "metadata": {
    "id": "8luTsO5dv_5w"
   },
   "outputs": [],
   "source": [
    "import numpy as np\n",
    "\n",
    "t = [x.strip() for x in open('input.txt').readlines()]\n",
    "m = np.array([[c for c in x] for x in t])\n",
    "\n",
    "sum( # horizontal occurences\n",
    " [x.count('XMAS') + x.count('SAMX') for x in t]\n",
    ") + sum( # vertical occurences\n",
    " [x.count('XMAS') + x.count('SAMX') for x in [''.join([x[i] for x in t]) for i in range(len(t[0]))]]\n",
    "    ) + sum( # diagonal occurences\n",
    "            s.count('XMAS') + s.count('SAMX') for s in [''.join(x) for x in [m.diagonal(offset) for offset in range(-m.shape[0] + 1, m.shape[1])] + [np.fliplr(m).diagonal(offset) for offset in range(-m.shape[0] + 1, m.shape[1])]]\n",
    "        )"
   ]
  },
  {
   "cell_type": "markdown",
   "metadata": {
    "id": "45PSpAuXWW5o"
   },
   "source": [
    "# Part 2\n",
    "\n",
    "Looking for the instructions, you flip over the word search to find that this isn't actually an XMAS puzzle; it's an X-MAS puzzle in which you're supposed to find two MAS in the shape of an X. One way to achieve that is like this:\n",
    "\n",
    "```\n",
    "M.S\n",
    ".A.\n",
    "M.S\n",
    "```\n",
    "\n",
    "Irrelevant characters have again been replaced with . in the above diagram. Within the X, each MAS can be written forwards or backwards.\n",
    "\n",
    "Here's the same example from before, but this time all of the X-MASes have been kept instead:\n",
    "\n",
    "```\n",
    ".M.S......\n",
    "..A..MSMS.\n",
    ".M.S.MAA..\n",
    "..A.ASMSM.\n",
    ".M.S.M....\n",
    "..........\n",
    "S.S.S.S.S.\n",
    ".A.A.A.A..\n",
    "M.M.M.M.M.\n",
    "..........\n",
    "```\n",
    "\n",
    "In this example, an X-MAS appears 9 times.\n",
    "\n",
    "Flip the word search from the instructions back over to the word search side and try again. How many times does an X-MAS appear?"
   ]
  },
  {
   "cell_type": "code",
   "execution_count": null,
   "metadata": {
    "colab": {
     "base_uri": "https://localhost:8080/"
    },
    "id": "OwfqKp0KsHEo",
    "outputId": "4fc6a99f-5763-46c6-b952-9a6c12ba586d"
   },
   "outputs": [],
   "source": [
    "t = [x.strip() for x in open('input.txt').readlines()]\n",
    "t = ['**' + x + '**' for x in ['*'*len(t[0])] +  ['*'*len(t[0])] + t + ['*'*len(t[0])] +  ['*'*len(t[0])]]\n",
    "[\n",
    "    ((t[r][c]=='M' and t[r+1][c+1]=='A' and t[r+2][c+2]=='S') or (t[r][c]=='S' and t[r+1][c+1]=='A' and t[r+2][c+2]=='M')) and ((t[r+2][c]=='M' and t[r+1][c+1]=='A' and t[r][c+2]=='S') or (t[r+2][c]=='S' and t[r+1][c+1]=='A' and t[r][c+2]=='M'))\n",
    "    for r in range(len(t) - 2)\n",
    "    for c in range(len(t[0]) - 2)\n",
    "].count(True)"
   ]
  }
 ],
 "metadata": {
  "colab": {
   "provenance": []
  },
  "kernelspec": {
   "display_name": "Python 3",
   "name": "python3"
  },
  "language_info": {
   "name": "python"
  }
 },
 "nbformat": 4,
 "nbformat_minor": 0
}
