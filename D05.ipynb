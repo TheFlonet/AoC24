{
 "cells": [
  {
   "cell_type": "markdown",
   "metadata": {
    "id": "vV_F-Qgad5Dj"
   },
   "source": [
    "# Part 1\n",
    "\n",
    "Safety protocols clearly indicate that new pages for the safety manuals must be printed in a very specific order. The notation X|Y means that if both page number X and page number Y are to be produced as part of an update, page number X must be printed at some point before page number Y.\n",
    "\n",
    "The Elf has for you both the page ordering rules and the pages to produce in each update (your puzzle input), but can't figure out whether each update has the pages in the right order.\n",
    "\n",
    "For example:\n",
    "\n",
    "```\n",
    "47|53\n",
    "97|13\n",
    "97|61\n",
    "97|47\n",
    "75|29\n",
    "61|13\n",
    "75|53\n",
    "29|13\n",
    "97|29\n",
    "53|29\n",
    "61|53\n",
    "97|53\n",
    "61|29\n",
    "47|13\n",
    "75|47\n",
    "97|75\n",
    "47|61\n",
    "75|61\n",
    "47|29\n",
    "75|13\n",
    "53|13\n",
    "\n",
    "75,47,61,53,29\n",
    "97,61,53,29,13\n",
    "75,29,13\n",
    "75,97,47,61,53\n",
    "61,13,29\n",
    "97,13,75,29,47\n",
    "```\n",
    "\n",
    "The first section specifies the page ordering rules, one per line. The first rule, 47|53, means that if an update includes both page number 47 and page number 53, then page number 47 must be printed at some point before page number 53. (47 doesn't necessarily need to be immediately before 53; other pages are allowed to be between them.)\n",
    "\n",
    "The second section specifies the page numbers of each update. Because most safety manuals are different, the pages needed in the updates are different too. The first update, 75,47,61,53,29, means that the update consists of page numbers 75, 47, 61, 53, and 29.\n",
    "\n",
    "To get the printers going as soon as possible, start by identifying which updates are already in the right order.\n",
    "\n",
    "In the above example, the first update (75,47,61,53,29) is in the right order:\n",
    "\n",
    "- 75 is correctly first because there are rules that put each other page after it: 75|47, 75|61, 75|53, and 75|29.\n",
    "- 47 is correctly second because 75 must be before it (75|47) and every other page must be after it according to 47|61, 47|53, and 47|29.\n",
    "- 61 is correctly in the middle because 75 and 47 are before it (75|61 and 47|61) and 53 and 29 are after it (61|53 and 61|29).\n",
    "- 53 is correctly fourth because it is before page number 29 (53|29).\n",
    "- 29 is the only page left and so is correctly last.\n",
    "Because the first update does not include some page numbers, the ordering rules involving those missing page numbers are ignored.\n",
    "\n",
    "The second and third updates are also in the correct order according to the rules. Like the first update, they also do not include every page number, and so only some of the ordering rules apply - within each update, the ordering rules that involve missing page numbers are not used.\n",
    "\n",
    "The fourth update, 75,97,47,61,53, is not in the correct order: it would print 75 before 97, which violates the rule 97|75.\n",
    "\n",
    "The fifth update, 61,13,29, is also not in the correct order, since it breaks the rule 29|13.\n",
    "\n",
    "The last update, 97,13,75,29,47, is not in the correct order due to breaking several rules.\n",
    "\n",
    "For some reason, the Elves also need to know the middle page number of each update being printed. Because you are currently only printing the correctly-ordered updates, you will need to find the middle page number of each correctly-ordered update. In the above example, the correctly-ordered updates are:\n",
    "\n",
    "```\n",
    "75,47,*61*,53,29\n",
    "97,61,*53*,29,13\n",
    "75,*29*,13\n",
    "```\n",
    "\n",
    "These have middle page numbers of 61, 53, and 29 respectively. Adding these page numbers together gives 143.\n",
    "\n",
    "Of course, you'll need to be careful: the actual list of page ordering rules is bigger and more complicated than the above example.\n",
    "\n",
    "Determine which updates are already in the correct order. What do you get if you add up the middle page number from those correctly-ordered updates?"
   ]
  },
  {
   "cell_type": "code",
   "execution_count": null,
   "metadata": {
    "colab": {
     "base_uri": "https://localhost:8080/"
    },
    "id": "qnBTMR9ad3fb",
    "outputId": "c81be365-ecf0-4c48-b1bc-30476462b0d2"
   },
   "outputs": [],
   "source": [
    "pairs, pages = [[list(map(int, s.split(delim))) for s in group.splitlines()]\n",
    "                for group, delim in zip(open('input.txt').read().split('\\n\\n'), ['|', ','])]\n",
    "sum([s[len(s) // 2] for s in pages if all(\n",
    "    not (a in s and b in s and (a == p or b == p) and (\n",
    "        (a == p and s.index(a) > s.index(b)) or (b == p and s.index(a) > s.index(b))\n",
    "        )) for p in s for a, b in pairs\n",
    "    )])"
   ]
  },
  {
   "cell_type": "markdown",
   "metadata": {
    "id": "0p_s8y71oerz"
   },
   "source": [
    "# Part 2\n",
    "\n",
    "For each of the incorrectly-ordered updates, use the page ordering rules to put the page numbers in the right order. For the above example, here are the three incorrectly-ordered updates and their correct orderings:\n",
    "\n",
    "- 75,97,47,61,53 becomes 97,75,47,61,53.\n",
    "- 61,13,29 becomes 61,29,13.\n",
    "- 97,13,75,29,47 becomes 97,75,47,29,13.\n",
    "\n",
    "After taking only the incorrectly-ordered updates and ordering them correctly, their middle page numbers are 47, 29, and 47. Adding these together produces 123.\n",
    "\n",
    "Find the updates which are not in the correct order. What do you get if you add up the middle page numbers after correctly ordering just those updates?"
   ]
  }
 ],
 "metadata": {
  "colab": {
   "provenance": []
  },
  "kernelspec": {
   "display_name": "Python 3",
   "name": "python3"
  },
  "language_info": {
   "name": "python"
  }
 },
 "nbformat": 4,
 "nbformat_minor": 0
}
