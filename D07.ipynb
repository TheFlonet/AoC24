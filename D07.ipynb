{
 "cells": [
  {
   "cell_type": "markdown",
   "metadata": {
    "id": "V_0e2qQkvjQJ"
   },
   "source": [
    "# Part 1\n",
    "\n",
    "You ask how long it'll take; the engineers tell you that it only needs final calibrations, but some young elephants were playing nearby and stole all the operators from their calibration equations! They could finish the calibrations if only someone could determine which test values could possibly be produced by placing any combination of operators into their calibration equations (your puzzle input).\n",
    "\n",
    "For example:\n",
    "\n",
    "```\n",
    "190: 10 19\n",
    "3267: 81 40 27\n",
    "83: 17 5\n",
    "156: 15 6\n",
    "7290: 6 8 6 15\n",
    "161011: 16 10 13\n",
    "192: 17 8 14\n",
    "21037: 9 7 18 13\n",
    "292: 11 6 16 20\n",
    "```\n",
    "\n",
    "Each line represents a single equation. The test value appears before the colon on each line; it is your job to determine whether the remaining numbers can be combined with operators to produce the test value.\n",
    "\n",
    "Operators are always evaluated left-to-right, not according to precedence rules. Furthermore, numbers in the equations cannot be rearranged. Glancing into the jungle, you can see elephants holding two different types of operators: add (+) and multiply (*).\n",
    "\n",
    "Only three of the above equations can be made true by inserting operators:\n",
    "\n",
    "- 190: 10 19 has only one position that accepts an operator: between 10 and 19. Choosing + would give 29, but choosing * would give the test value (10 * 19 = 190).\n",
    "- 3267: 81 40 27 has two positions for operators. Of the four possible configurations of the operators, two cause the right side to match the test value: 81 + 40 * 27 and 81 * 40 + 27 both equal 3267 (when evaluated left-to-right)!\n",
    "- 292: 11 6 16 20 can be solved in exactly one way: 11 + 6 * 16 + 20.\n",
    "\n",
    "The engineers just need the total calibration result, which is the sum of the test values from just the equations that could possibly be true. In the above example, the sum of the test values for the three equations listed above is 3749.\n",
    "\n",
    "Determine which equations could possibly be true. What is their total calibration result?\n",
    "\n"
   ]
  },
  {
   "cell_type": "code",
   "execution_count": null,
   "metadata": {
    "colab": {
     "base_uri": "https://localhost:8080/"
    },
    "id": "2qbn_uaevhUk",
    "outputId": "35ac1ed2-2d6f-455e-b96d-dee61113d284"
   },
   "outputs": [],
   "source": [
    "import itertools, functools\n",
    "\n",
    "sum(target for target, nums in [(int(y.split(':')[0]),\n",
    "                                 y.split(':')[1].split()) for y in\n",
    "                                  [x.strip() for x in open('input.txt').readlines()]]\n",
    "    if any(functools.reduce(lambda acc, pair: acc + int(pair[1]) if pair[0] == '+'\n",
    "                            else acc * int(pair[1]), zip(op, nums[1:]), int(nums[0])) == target\n",
    "           for op in itertools.product(['+', '*'], repeat=len(nums) - 1)\n",
    "))"
   ]
  },
  {
   "cell_type": "markdown",
   "metadata": {
    "id": "o9xg3KEkz-2t"
   },
   "source": [
    "# Part 2\n",
    "\n",
    "The engineers seem concerned; the total calibration result you gave them is nowhere close to being within safety tolerances. Just then, you spot your mistake: some well-hidden elephants are holding a third type of operator.\n",
    "\n",
    "The concatenation operator (||) combines the digits from its left and right inputs into a single number. For example, 12 || 345 would become 12345. All operators are still evaluated left-to-right.\n",
    "\n",
    "Now, apart from the three equations that could be made true using only addition and multiplication, the above example has three more equations that can be made true by inserting operators:\n",
    "\n",
    "- 156: 15 6 can be made true through a single concatenation: 15 || 6 = 156.\n",
    "- 7290: 6 8 6 15 can be made true using 6 * 8 || 6 * 15.\n",
    "- 192: 17 8 14 can be made true using 17 || 8 + 14.\n",
    "\n",
    "Adding up all six test values (the three that could be made before using only + and * plus the new three that can now be made by also using ||) produces the new total calibration result of 11387.\n",
    "\n",
    "Using your new knowledge of elephant hiding spots, determine which equations could possibly be true. What is their total calibration result?\n"
   ]
  },
  {
   "cell_type": "code",
   "execution_count": null,
   "metadata": {
    "colab": {
     "base_uri": "https://localhost:8080/"
    },
    "id": "8NpQZAs17bL_",
    "outputId": "4d960b08-ccb6-4857-ca41-b446ed430fab"
   },
   "outputs": [],
   "source": [
    "import itertools, functools\n",
    "\n",
    "sum(target for target, nums in [(int(y.split(':')[0]),\n",
    "                                 y.split(':')[1].split()) for y in\n",
    "                                  [x.strip() for x in open('input.txt').readlines()]]\n",
    "    if any(functools.reduce(lambda acc, pair: acc + int(pair[1]) if pair[0] == '+'\n",
    "                            else acc * int(pair[1]) if pair[0] == '*'\n",
    "                            else int(str(acc) + pair[1]), zip(op, nums[1:]),\n",
    "                            int(nums[0])) == target\n",
    "           for op in itertools.product(['+', '*', '||'], repeat=len(nums) - 1)\n",
    "))"
   ]
  }
 ],
 "metadata": {
  "colab": {
   "provenance": []
  },
  "kernelspec": {
   "display_name": "Python 3",
   "name": "python3"
  },
  "language_info": {
   "name": "python"
  }
 },
 "nbformat": 4,
 "nbformat_minor": 0
}
